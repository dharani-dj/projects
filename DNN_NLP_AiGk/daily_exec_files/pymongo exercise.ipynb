{
 "cells": [
  {
   "cell_type": "code",
   "execution_count": 1,
   "metadata": {},
   "outputs": [],
   "source": []
  },
  {
   "cell_type": "code",
   "execution_count": 1,
   "metadata": {},
   "outputs": [],
   "source": [
    "import pymongo\n",
    "from bs4 import BeautifulSoup\n",
    "import requests\n",
    "import logging\n",
    "import pymongo\n",
    "import multiprocessing\n",
    "import dateparser\n",
    "import pandas as pd\n",
    "import datetime\n",
    "import numpy as np\n",
    "import re\n",
    "from tqdm import tnrange,tqdm_notebook\n",
    "import tqdm\n",
    "import utils as util\n",
    "from bson import ObjectId\n",
    "\n",
    "\n",
    "\n",
    "\n",
    "\n",
    "\n",
    "def scrape_hindu_article_mongo(url):\n",
    "    try:\n",
    "        tags,author,location,date_article,text,html = util.scrape_hindu_article(url)\n",
    "\n",
    "    except:\n",
    "        tags='None'\n",
    "        author = 'None' \n",
    "        location= 'None' \n",
    "        date_article='None' \n",
    "        text='None'  \n",
    "        html ='None'\n",
    "    return(tags,author,location,date_article,text,html)\n",
    "        \n",
    "        \n",
    "        \n",
    "        \n",
    "myclient = pymongo.MongoClient(\"mongodb://localhost:27017/\")\n",
    "mydb = myclient[\"aigk\"]\n",
    "mycol = mydb[\"articles\"]\n",
    "hindu_collection = mycol.find({'source_id': u'hindu'})\n",
    "\n",
    "\n",
    "\n"
   ]
  },
  {
   "cell_type": "code",
   "execution_count": null,
   "metadata": {},
   "outputs": [],
   "source": [
    "for i in hindu_collection:\n",
    "    \n",
    "    url=(i['url'])\n",
    "    try:\n",
    "        tags,author,location,date_article,text,html = scrape_hindu_article_mongo(url)\n",
    "\n",
    "    except:\n",
    "        tags='None_2'\n",
    "        author = 'None_2' \n",
    "        location= 'None_2' \n",
    "        date_article='None_2' \n",
    "        text='None_2'  \n",
    "        html ='None_2'    \n",
    "    new_keys={'$set':{'tags':tags,'author':author,'location':location,'text':text, 'html':str(html)}}\n",
    "    update_id={'_id': ObjectId(i['_id'])}\n",
    "    mycol.update_one(update_id,new_keys)"
   ]
  },
  {
   "cell_type": "code",
   "execution_count": 3,
   "metadata": {},
   "outputs": [],
   "source": [
    "import pymongo\n",
    "from bs4 import BeautifulSoup\n",
    "import requests\n",
    "import logging\n",
    "import pymongo\n",
    "import multiprocessing\n",
    "import dateparser\n",
    "import pandas as pd\n",
    "import datetime\n",
    "import numpy as np\n",
    "import re\n",
    "from tqdm import tnrange,tqdm_notebook\n",
    "import tqdm\n",
    "import utils as util\n",
    "from bson import ObjectId\n",
    "\n",
    "\n",
    "\n",
    "\n",
    "\n",
    "\n",
    "def scrape_businessline_article_mongo(url):\n",
    "    try:\n",
    "        date_article,tags,headings,text,html = util.scrape_businessline_article(url)\n",
    "\n",
    "    except:\n",
    "        date_article='None'\n",
    "        tags = 'None' \n",
    "        headings= 'None' \n",
    "        text='None'  \n",
    "        html ='None'\n",
    "    return(date_article,tags,headings,text,html)\n",
    "        \n",
    "        \n",
    "        \n",
    "        \n",
    "myclient = pymongo.MongoClient(\"mongodb://localhost:27017/\")\n",
    "mydb = myclient[\"aigk\"]\n",
    "mycol = mydb[\"articles\"]\n",
    "businessline_collection = mycol.find({'source_id': u'businessline'})\n",
    "\n",
    "\n",
    "\n",
    "for i in businessline_collection:\n",
    "    url=(i['links'])\n",
    "    try:\n",
    "        date_article,tags,headings,text,html = scrape_businessline_article_mongo(url)\n",
    "    except:\n",
    "        date_article='None_2'\n",
    "        tags = 'None_2' \n",
    "        headings= 'None_2' \n",
    "        text='None_2'  \n",
    "        html ='None_2'\n",
    "       \n",
    "    new_keys={'$set':{'date_article':date_article,'tags':tags,'headings':headings,'text':text,'html':str(html)}}\n",
    "    update_id={'_id': ObjectId(i['_id'])}\n",
    "    mycol.update_one(update_id,new_keys)"
   ]
  },
  {
   "cell_type": "code",
   "execution_count": 28,
   "metadata": {},
   "outputs": [],
   "source": [
    "myclient = pymongo.MongoClient(\"mongodb://localhost:27017/\")\n",
    "mydb = myclient[\"aigk\"]\n",
    "mycol = mydb[\"articles\"]\n",
    "articles_collection = mycol.find_one({\"summary\":{'$exists': True}})"
   ]
  },
  {
   "cell_type": "code",
   "execution_count": 29,
   "metadata": {},
   "outputs": [
    {
     "data": {
      "text/plain": [
       "{'_id': ObjectId('5da090ce929395f05a6881e8'),\n",
       " 'author': 'PRESS TRUST OF INDIA',\n",
       " 'date_': '2019/10/05',\n",
       " 'html': '<div class=\"article\" role=\"main\">\\n<div class=\"\">\\n\\n\\n\\n\\n</div>\\n<div class=\"\">\\n\\n\\n<div class=\"lead-img-cont lead-img-verticle\">\\n<div class=\"img-container picture\" style=\"width:100%\">\\n<picture> <!--[if IE 9]><video style=\"display: none;\"><![endif]-->\\n<source media=\"(min-width: 1281px)\" sizes=\"460px\" srcset=\"https://www.thehindu.com/sport/other-sports/na41h8/article29598117.ece/ALTERNATES/FREE_460/TH05JAMU\"/> <source media=\"(min-width: 768px) and (max-width: 1280px)\" sizes=\"300px\" srcset=\"https://www.thehindu.com/sport/other-sports/na41h8/article29598117.ece/ALTERNATES/FREE_300/TH05JAMU\"/>\\n<source media=\"(min-width: 321px) and (max-width: 767px)\" sizes=\"435px\" srcset=\"https://www.thehindu.com/sport/other-sports/na41h8/article29598117.ece/ALTERNATES/FREE_435/TH05JAMU\"/>\\n<source media=\"(max-width: 320px)\" sizes=\"320px\" srcset=\"https://www.thehindu.com/sport/other-sports/na41h8/article29598117.ece/ALTERNATES/FREE_320/TH05JAMU\"/> <!--[if IE 9]></video><![endif]-->\\n<img alt=\"Jamuna Boro.\" class=\"lead-img adaptive placeholder\" data-device-variant=\"FREE~FREE~FREE\" data-src-template=\"https://th.thgim.com/sport/other-sports/na41h8/article29598117.ece/BINARY/thumbnail/TH05JAMU\" data-variant=\"FREE\" src=\"https://th.thgim.com/static/img/1x1_spacer.png\" title=\"Jamuna Boro.\">\\n</img></picture>\\n<span class=\"lead-img-caption\">\\n<p>\\nJamuna Boro.\\n\\xa0 | Photo Credit: <a href=\"https://www.thehindu.com/profile/photographers/Ravi-Choudhary/\">Ravi Choudhary</a> </p>\\n<span class=\"show-caption hidden-lg hidden-md hidden-sm\"><i class=\"fa fa-info-circle\"></i></span>\\n</span>\\n</div> </div>\\n\\n<div class=\"article-topics-container\">\\n\\n</div>\\n</div>\\n<div class=\"\">\\n<div id=\"content-body-14269002-29598118\">\\n<p>Jamuna Boro (54kg) gave a flying start to India’s campaign in the World women’s boxing championships by advancing to the pre-quarterfinals here on Friday. </p><p>Boro defeated Mongolia’s Michidmaa Erdenedalai 5-0, recovering from a slow start. The 22-year-old, employed with Assam Rifles, has a tough one next up as she will square off against Algeria’s fifth-seeded Ouidad Sfouh.</p><p>Sfouh had won gold in the 2017 Worlds and was given a first-round bye here.</p><p>Boro, a debutant at the event, took her time to warm up but once she got going, the Assamese pugilist dominated Erdenedalai with her combination punches. Her jabs connected particularly well. The Indian was unstoppable in the final three minutes of the bout.</p>\\n</div>\\n\\n\\n<div class=\"subarticlepay\" style=\"display:none\">\\n<div class=\"col-xs-12\">\\n<div class=\"subscriptioncontainer\">\\n<div class=\"subscriptioncontainermain\">\\n<div class=\"col-xs-12 col-sm-8 col-md-9 subscripeleftcontent\">\\n<p class=\"planTodayDiv\">You have reached your limit for free articles this month.</p>\\n<p class=\"sqjdiv\">Register to The Hindu for free and get unlimited access for 30 days.</p>\\n</div>\\n<div class=\"col-xs-12 col-sm-4 col-md-3\">\\n<div class=\"subscribebtntodayspapper\" data-category=\"Meterpaywall\" data-label=\"subscribe\">\\n<a href=\"https://subscription.thehindu.com/subscription?utm_source=meterpaywall&amp;utm_medium=other-sports&amp;utm_campaign=meterpaywall\">Subscribe Now</a>\\n</div>\\n<p class=\"signinlnk\" data-category=\"Meterpaywall\" data-label=\"sign\"> Already have an account ? <a class=\"signintodayspaper\" href=\"https://subscription.thehindu.com/signup?utm_source=meterpaywall&amp;utm_medium=other-sports&amp;utm_campaign=meterpaywall&amp;#signin\">Sign in</a>\\n</p>\\n</div>\\n</div>\\n</div>\\n<div class=\"subscriptioncontainerextra\">\\n<p>Sign up for a 30-day free trial. <a class=\"signupextra\" href=\"https://subscription.thehindu.com/signup?utm_source=meterpaywall&amp;utm_medium=other-sports&amp;utm_campaign=meterpaywall\">Sign Up</a></p>\\n</div>\\n</div>\\n<div class=\"subscriptionbenefits\">\\n<h4 class=\"subscriptionbenefitstitle\">Subscription Benefits Include</h4>\\n<div class=\"col-xs-12 col-sm-6 col-md-6\">\\n<div class=\"reasonforsubscrptionitems\">\\n<span class=\"reasonforsubscrptionitemsimg todayimg\"></span>\\n<div class=\"reasonforsubscrptionitemscontent\">\\n<h6 class=\"reasonforsubscrptionitemscontenttitle\">Today\\'s Paper</h6>\\n<p class=\"reasonforsubscrptionitemscontentlead\">Find mobile-friendly version of articles from the day\\'s newspaper in one easy-to-read list.</p>\\n</div>\\n</div>\\n<div class=\"reasonforsubscrptionitems\">\\n<span class=\"reasonforsubscrptionitemsimg adimg\"></span>\\n<div class=\"reasonforsubscrptionitemscontent\">\\n<h6 class=\"reasonforsubscrptionitemscontenttitle\">Zero advertisements</h6>\\n<p class=\"reasonforsubscrptionitemscontentlead\">Enjoy reading our articles without intrusion from advertisements.</p>\\n</div>\\n</div>\\n<div class=\"reasonforsubscrptionitems\">\\n<span class=\"reasonforsubscrptionitemsimg recomimg\"></span>\\n<div class=\"reasonforsubscrptionitemscontent\">\\n<h6 class=\"reasonforsubscrptionitemscontenttitle\">Personalised recommendations</h6>\\n<p class=\"reasonforsubscrptionitemscontentlead\">A select list of articles that match your interests and tastes.</p>\\n</div>\\n</div>\\n</div>\\n<div class=\"col-xs-12 col-sm-6 col-md-6\">\\n<div class=\"reasonforsubscrptionitems\">\\n<span class=\"reasonforsubscrptionitemsimg fasterimg\"></span>\\n<div class=\"reasonforsubscrptionitemscontent\">\\n<h6 class=\"reasonforsubscrptionitemscontenttitle\">Faster pages</h6>\\n<p class=\"reasonforsubscrptionitemscontentlead\">Move smoothly between articles as our pages load instantly.</p>\\n</div>\\n</div>\\n<div class=\"reasonforsubscrptionitems\">\\n<span class=\"reasonforsubscrptionitemsimg dashimg\"></span>\\n<div class=\"reasonforsubscrptionitemscontent\">\\n<h6 class=\"reasonforsubscrptionitemscontenttitle\">Dashboard</h6>\\n<p class=\"reasonforsubscrptionitemscontentlead\">A one-stop-shop for seeing the latest updates, and managing your preferences.</p>\\n</div>\\n</div>\\n<div class=\"reasonforsubscrptionitems\">\\n<span class=\"reasonforsubscrptionitemsimg briefimg\"></span>\\n<div class=\"reasonforsubscrptionitemscontent\">\\n<h6 class=\"reasonforsubscrptionitemscontenttitle\">Briefing</h6>\\n<p class=\"reasonforsubscrptionitemscontentlead\">We brief you on the latest and most important developments, three times a day.</p>\\n</div>\\n</div>\\n</div>\\n</div>\\n<div class=\"subscriptiontext col-xs-12\">\\n<p>\\n*Our Digital Subscription plans do not currently include the e-paper ,crossword, iPhone, iPad mobile applications and print. Our plans enhance your reading experience.\\n</p>\\n</div>\\n</div>\\n\\n\\n<div class=\"articlebelowtextad\" id=\"articlebelowtextad\">\\n</div>\\n\\n<div class=\"clear\">\\n</div>\\n</div>\\n\\n</div>',\n",
       " 'keywords_list': 'None_2',\n",
       " 'label': 'None_2',\n",
       " 'location': 'Ulan-Ude (Russia),',\n",
       " 'probability_label': 'None_2',\n",
       " 'section_heading': 'other sports',\n",
       " 'source_id': 'hindu',\n",
       " 'summary': 'None_2',\n",
       " 'tags': ['boxing'],\n",
       " 'text': \"Jamuna Boro.\\n\\xa0 | Photo Credit: Ravi Choudhary \\n\\n\\n \\n\\n\\n\\n\\n\\n\\n\\nJamuna Boro (54kg) gave a flying start to India’s campaign in the World women’s boxing championships by advancing to the pre-quarterfinals here on Friday. Boro defeated Mongolia’s Michidmaa Erdenedalai 5-0, recovering from a slow start. The 22-year-old, employed with Assam Rifles, has a tough one next up as she will square off against Algeria’s fifth-seeded Ouidad Sfouh.Sfouh had won gold in the 2017 Worlds and was given a first-round bye here.Boro, a debutant at the event, took her time to warm up but once she got going, the Assamese pugilist dominated Erdenedalai with her combination punches. Her jabs connected particularly well. The Indian was unstoppable in the final three minutes of the bout.\\n\\n\\n\\n\\n\\n\\n\\n\\nYou have reached your limit for free articles this month.\\nRegister to The Hindu for free and get unlimited access for 30 days.\\n\\n\\n\\nSubscribe Now\\n\\n Already have an account ? Sign in\\n\\n\\n\\n\\n\\nSign up for a 30-day free trial. Sign Up\\n\\n\\n\\nSubscription Benefits Include\\n\\n\\n\\n\\nToday's Paper\\nFind mobile-friendly version of articles from the day's newspaper in one easy-to-read list.\\n\\n\\n\\n\\n\\nZero advertisements\\nEnjoy reading our articles without intrusion from advertisements.\\n\\n\\n\\n\\n\\nPersonalised recommendations\\nA select list of articles that match your interests and tastes.\\n\\n\\n\\n\\n\\n\\n\\nFaster pages\\nMove smoothly between articles as our pages load instantly.\\n\\n\\n\\n\\n\\nDashboard\\nA one-stop-shop for seeing the latest updates, and managing your preferences.\\n\\n\\n\\n\\n\\nBriefing\\nWe brief you on the latest and most important developments, three times a day.\\n\\n\\n\\n\\n\\n\\n*Our Digital Subscription plans do not currently include the e-paper ,crossword, iPhone, iPad mobile applications and print. Our plans enhance your reading experience.\",\n",
       " 'title': 'Boxing | Jamuna Boro gives India winning start',\n",
       " 'uid': 'hindu_article29598118',\n",
       " 'url': 'https://www.thehindu.com/sport/other-sports/boxing-jamuna-boro-gives-india-winning-start/article29598118.ece'}"
      ]
     },
     "execution_count": 29,
     "metadata": {},
     "output_type": "execute_result"
    }
   ],
   "source": [
    "articles_collection"
   ]
  },
  {
   "cell_type": "code",
   "execution_count": 12,
   "metadata": {},
   "outputs": [],
   "source": [
    "#businessline\n",
    "import pymongo\n",
    "myclient = pymongo.MongoClient(\"mongodb://localhost:27017/\")\n",
    "mydb = myclient[\"aigk\"]\n",
    "mycol = mydb[\"articles\"]\n",
    "hindu_collection = mycol.find_one({'source_id': u'businessline'})"
   ]
  },
  {
   "cell_type": "code",
   "execution_count": 13,
   "metadata": {},
   "outputs": [
    {
     "data": {
      "text/plain": [
       "[' Kerala has emerged as one of country’s top startup destinations marking an impressive compound annual growth of 17 per cent since 2012, taking the total number of ventures based out of the state to 2,200 and displaying high competence in netting funds, says a reportby digital media platform Inc 42 in association with TiE Kerala.',\n",
       " 'In a single year since 2018 alone, the number of startups set up in Kerala marked a steep increase of 35 per cent, says the report, unveiled at the valedictory function of the TiECon Kerala 2019, at Kochi on Saturday. ',\n",
       " 'Subramanian Swamy, MP, released the report titled ‘Kerala Startup Ecosystem 2019’ in the presence of Saji Gopinath, CEO, Kerala Startup Mission (KSUM).',\n",
       " 'Kerala-based startups kept up their competence in getting funds by raising $ 89 million till date, and compared to 2018, till September this year startups clocked an 18 per cent uptick in securing funds. In 2019, startups netted $ 44 million funding spread across 13 deals. As many as 47 startups have raised funds from outside and 13 startups received funds in 2019. ',\n",
       " 'Also read: KSUM, Unity Technologies launch Centre of Excellence for AR/VR, gaming',\n",
       " 'KSUM has designed and executed a set of programmes and schemes as per the revised Kerala Startup Policy (Technology Innovation and Entrepreneurship Policy) to identify and support technology startups in the State. In the last six months alone, KSUM incubated and funded over 200 startups, said M Sivasankar, Secretary, Electronics and IT, Government of Kerala.',\n",
       " 'To ensure investment opportunities, KSUM has come out with an innovative Fund of Fund scheme to invest in Alternative Investment Funds (AIFs). A combined corpus in excess of Rs 1,000 crore of investment capital has been made available for startups through this scheme by committing less than 10 percent of this amount into various AIFs, Saji Gopinath, CEO, KSUM said..',\n",
       " 'Of the 2,200 startups based in Kerala, as much as 13 per cent were registered in the first three quarters of 2019. “In 2019, the Indian startup ecosystem recorded 553 funding deals, which together crossed the $ 9 billion funding mark. Interestingly, it is Kerala which has emerged as one of the top startup destinations of the country, says the report.',\n",
       " 'Around 75 per cent of the Kerala-based startups are product-driven companies and 25 per cent of startups are service-driven. Sector-wise, 28 per cent of startups offer IT and consulting services followed by health tech and edtech with 8 per cent and 7 per cent respectively, the report says.']"
      ]
     },
     "execution_count": 13,
     "metadata": {},
     "output_type": "execute_result"
    }
   ],
   "source": [
    "hindu_collection['text']"
   ]
  },
  {
   "cell_type": "code",
   "execution_count": 14,
   "metadata": {},
   "outputs": [],
   "source": [
    "#hindu\n",
    "hindu_collection = mycol.find_one({'source_id': u'hindu'})"
   ]
  },
  {
   "cell_type": "code",
   "execution_count": 15,
   "metadata": {},
   "outputs": [
    {
     "data": {
      "text/plain": [
       "\"Jamuna Boro.\\n\\xa0 | Photo Credit: Ravi Choudhary \\n\\n\\n \\n\\n\\n\\n\\n\\n\\n\\nJamuna Boro (54kg) gave a flying start to India’s campaign in the World women’s boxing championships by advancing to the pre-quarterfinals here on Friday. Boro defeated Mongolia’s Michidmaa Erdenedalai 5-0, recovering from a slow start. The 22-year-old, employed with Assam Rifles, has a tough one next up as she will square off against Algeria’s fifth-seeded Ouidad Sfouh.Sfouh had won gold in the 2017 Worlds and was given a first-round bye here.Boro, a debutant at the event, took her time to warm up but once she got going, the Assamese pugilist dominated Erdenedalai with her combination punches. Her jabs connected particularly well. The Indian was unstoppable in the final three minutes of the bout.\\n\\n\\n\\n\\n\\n\\n\\n\\nYou have reached your limit for free articles this month.\\nRegister to The Hindu for free and get unlimited access for 30 days.\\n\\n\\n\\nSubscribe Now\\n\\n Already have an account ? Sign in\\n\\n\\n\\n\\n\\nSign up for a 30-day free trial. Sign Up\\n\\n\\n\\nSubscription Benefits Include\\n\\n\\n\\n\\nToday's Paper\\nFind mobile-friendly version of articles from the day's newspaper in one easy-to-read list.\\n\\n\\n\\n\\n\\nZero advertisements\\nEnjoy reading our articles without intrusion from advertisements.\\n\\n\\n\\n\\n\\nPersonalised recommendations\\nA select list of articles that match your interests and tastes.\\n\\n\\n\\n\\n\\n\\n\\nFaster pages\\nMove smoothly between articles as our pages load instantly.\\n\\n\\n\\n\\n\\nDashboard\\nA one-stop-shop for seeing the latest updates, and managing your preferences.\\n\\n\\n\\n\\n\\nBriefing\\nWe brief you on the latest and most important developments, three times a day.\\n\\n\\n\\n\\n\\n\\n*Our Digital Subscription plans do not currently include the e-paper ,crossword, iPhone, iPad mobile applications and print. Our plans enhance your reading experience.\""
      ]
     },
     "execution_count": 15,
     "metadata": {},
     "output_type": "execute_result"
    }
   ],
   "source": [
    "hindu_collection['text']"
   ]
  },
  {
   "cell_type": "code",
   "execution_count": 23,
   "metadata": {},
   "outputs": [],
   "source": [
    "#pib\n",
    "hindu_collection = mycol.find_one({'source_id': u'PIB'})"
   ]
  },
  {
   "cell_type": "code",
   "execution_count": 24,
   "metadata": {},
   "outputs": [
    {
     "data": {
      "text/plain": [
       "'A group of officers of Indian Engineering Services (2013 & 2014 batches) and officer trainees of Indian Engineering Service (2015 batch) called on the President of India, Shri Pranab Mukherjee today (June 1, 2016) at Rashtrapati Bhavan. \\r\\n\\r\\nSpeaking on the occasion, the President said that engineers are engaged in key infrastructure sectors. India today has a large pool of technically competent engineers.  We can be proud of what we have achieved since independence. From barely one million ton of steel production at the time of independence, we now produce over 90 million ton annually. From less than one lakh automobiles per year in 1947, we are now the sixth largest producer of automobiles at 4.1 million. At 644 million ton, we are the world’s third largest producer of coal. In cement production, we are behind only China with an annual output of 270 million ton. India has 462 million users of internet with large penetration of the population. With over one billion mobile phones, the ICT sector is turning out to be a major platform for the next stage of growth and transformation in our country. India has the second largest road network in the world with a road length of 4.7 million kilometre. Our road network transports more than 60 percent of all goods and 85 percent of passenger traffic in the country. The value of our roads and bridges infrastructure asset, which was US$ 6.9 billion (roughly Rs. 46,000 crore at today’s exchange rate) in 2009, is expected to reach US$ 19.2 billion (or approximately Rs. 1.3 lakh crore) next year. However, we must continue to strive to move forward keeping in mind the development requirements of our country and its huge population.  \\r\\n\\r\\nThe President said that the Engineering Service would provide the officers an opportunity to serve the society and they would be entrusted with tremendous opportunities at a young age.  They should give back to society as the society had invested in them. Besides, they should remember Mahatma Gandhi’s talisman of thinking of the welfare of the poorest of the poor in order to arrive at correct decisions.  If they consider their job as a mission, they would be able to have maximum job satisfaction.  \\r\\n\\r\\nOfficers of Indian Engineering Service of 2013 & 2014 batches are presently posted in the Ministry of Road Transport and Highways as Assistant Executive Engineers while officer trainees of 2015 batch are undergoing 35 weeks foundation training at CPWD Training Institute, Ghaziabad. \\r\\n\\r\\n****\\r\\nAKT/NT\\r\\n  \\r\\n(Release ID :145843)'"
      ]
     },
     "execution_count": 24,
     "metadata": {},
     "output_type": "execute_result"
    }
   ],
   "source": [
    "hindu_collection['text']"
   ]
  },
  {
   "cell_type": "code",
   "execution_count": 18,
   "metadata": {},
   "outputs": [],
   "source": [
    "#gktoday\n",
    "hindu_collection = mycol.find_one({'source_id': u'gktoday'})"
   ]
  },
  {
   "cell_type": "code",
   "execution_count": 19,
   "metadata": {},
   "outputs": [
    {
     "data": {
      "text/plain": [
       "\"\\n\\n@import url('https://fonts.googleapis.com/css?family=Open+Sans+Condensed:300,700&display=swap');\\n\\n\\n\\nIndia Ratings and Research (Ind-Ra), a part of Fitch group has lowered India’s gross domestic product (GDP) forecast for financial year (FY) 2019-20 to 6.1%. This was second downgrade in the last two months. Earlier in August 2019, Ind-Ra had revised GDP growth estimate to 6.7% from its earlier forecast of 7.3%. It has cited slowdown in both rural and urban consumption demand growth as one of the key reasons for the downward revision of GDP in its August 2019 forecast.\\nInd-Ra Projections\\nGrowth Forecast: GDP growth in the first half of FY 2019-20 to be 5.2% and forecasts it to recover to 6.9% in 2HFY20, mainly on account of the base effect.\\nGovernment Measures: The recent measures announced by government to arrest economic slowdown are likely to support growth only in medium-to-long term. Most of the measures announced by government are essentially supply-side response to revive growth.\\nBigger challenges faced by economy: It is from demand side as consumption demand has collapsed and private corporate investment is not forthcoming.\\nWay Forward: There is need is to take measures that will enhance disposable income and put additional money in the hands of rural and urban households. Government-initiated spend on rural infrastructure activities will help to generate large-scale employment that could add/stimulate consumption demand.\\nKey drivers of inflation in India: They are food and crude oil prices and they stand favourable/benign currently. They are likely to remain the same during the remainder of the financial year.\\nFiscal deficit: It has been budgeted at 3.3% of GDP. It could increase to 3.6% of GDP in FY20. Additionally, current account deficit is expected to decline to 1.8% of GDP in FY20 from 2.1% of GDP in FY19, aided by softer crude oil prices. In terms of the domestic currency, Indian rupee will average 70.86 against the dollar in FY20.\\n\""
      ]
     },
     "execution_count": 19,
     "metadata": {},
     "output_type": "execute_result"
    }
   ],
   "source": [
    "hindu_collection['text']"
   ]
  },
  {
   "cell_type": "code",
   "execution_count": null,
   "metadata": {},
   "outputs": [],
   "source": []
  },
  {
   "cell_type": "code",
   "execution_count": null,
   "metadata": {},
   "outputs": [],
   "source": [
    "\n",
    "\n",
    "\n",
    "    if df_classi['label'].values[i] ==0:\n",
    "        total_string = ''\n",
    "        for j in df_classi['text'].values[i]:\n",
    "            total_string = total_string +' '+ j\n",
    "        text.append(total_string)        \n",
    "    else:\n",
    "        text.append(df_classi['text'].values[i])\n",
    "\n",
    "\n",
    "        if df_classi['label'].values[i] ==1:\n",
    "            a = df_classi['text'].values[i]\n",
    "            if ';' in a:\n",
    "                text.append(a.split(';')[1])\n",
    "            else:\n",
    "                text.append(a)\n",
    "        else:\n",
    "            text.append(df_classi['text'].values[i])"
   ]
  },
  {
   "cell_type": "code",
   "execution_count": null,
   "metadata": {},
   "outputs": [],
   "source": []
  },
  {
   "cell_type": "code",
   "execution_count": null,
   "metadata": {},
   "outputs": [],
   "source": [
    "import pymongo\n",
    "from bs4 import BeautifulSoup\n",
    "import requests\n",
    "import logging\n",
    "import pymongo\n",
    "import multiprocessing\n",
    "import dateparser\n",
    "import pandas as pd\n",
    "import datetime\n",
    "import numpy as np\n",
    "import re\n",
    "from tqdm import tnrange,tqdm_notebook\n",
    "import tqdm\n",
    "from bson import ObjectId\n",
    "from classification_utils import *\n",
    "from text_rank_utils import *\n",
    "from gensim.summarization import keywords\n",
    "\n",
    "\n",
    "def create_keys(text,word_count,summary_limit):\n",
    "    vocab =  load_vocab('vocab.txt')\n",
    "    json_file = open('model.json', 'r')\n",
    "    loaded_model_json = json_file.read()\n",
    "    json_file.close()\n",
    "    loaded_model = model_from_json(loaded_model_json)\n",
    "    loaded_model.load_weights(\"model.h5\")\n",
    "    \n",
    "    with open('model_objects.pkl', 'rb') as f:\n",
    "        model_objects_list = pickle.load(f)\n",
    "    pca_object       = model_objects_list[0]\n",
    "    tokenizer_object = model_objects_list[1]\n",
    "\n",
    "    article = clean(text,no_urls=True,replace_with_url=\"\",lower=False)\n",
    "    tokenizer = RegexpTokenizer(r'\\w+')\n",
    "    tokens = tokenizer.tokenize(article)\n",
    "    summary = CentroidWordEmbeddingsSummarizer(BaseSummarizer).summarize(text=article,limit_type = 'word',limit=int(len(tokens)*summary_limit))\n",
    "    probability,label =  prediction_bow(loaded_model,text,tokenizer_object,pca_object,vocab)\n",
    "    keywords_text = keywords(text,words =word_count).split('\\n')\n",
    "    return(summary,probability[0],label,keywords_text)\n",
    "\n",
    "\n",
    "\n",
    "\n",
    "words_count = 10\n",
    "summary_shrink = 0.33\n",
    "def create_keys_article_mongo(text,words_count,summary_shrink):\n",
    "    try:\n",
    "        summary,probability_label,label,keywords_list = create_keys(text,words_count,summary_shrink)\n",
    "\n",
    "    except:\n",
    "        summary='None'\n",
    "        probability_label = 'None' \n",
    "        label= 'None' \n",
    "        keywords_list='None'  \n",
    "    return(summary,probability_label,label,keywords_list)\n",
    "        \n",
    "        \n",
    "        \n",
    "        \n",
    "myclient = pymongo.MongoClient(\"mongodb://localhost:27017/\")\n",
    "mydb = myclient[\"aigk\"]\n",
    "mycol = mydb[\"articles\"]\n",
    "articles_collection = mycol.find({\"summary\":{'$exists': False}})\n",
    "\n",
    "\n",
    "a = 0\n",
    "for i in articles_collection:\n",
    "    a = a+1\n",
    "    print(a)\n",
    "    if i['source_id'] != 'forum_ias':\n",
    "\n",
    "        if i['source_id'] != 'businessline':\n",
    "            total_string = ''\n",
    "            for j in i['text']:\n",
    "                total_string = total_string +' '+ j\n",
    "            text_article = total_string\n",
    "            \n",
    "        elif i['source_id'] != 'gktoday':\n",
    "            a = i['text']\n",
    "            if ';' in a:\n",
    "                text_article = a.split(';')[1]\n",
    "            else:\n",
    "                text_article = a\n",
    "        else:\n",
    "            text_article=i['text']\n",
    "                \n",
    "        \n",
    "        try:\n",
    "            summary,probability_label,label,keywords_list = create_keys_article_mongo(text,words_count,summary_shrink)\n",
    "        except:\n",
    "            summary='None_2'\n",
    "            probability_label = 'None_2' \n",
    "            label= 'None_2' \n",
    "            keywords_list='None_2'  \n",
    "\n",
    "        new_keys={'$set':{'summary':summary,'probability_label':probability_label,'label':label,'keywords_list':keywords_list}}\n",
    "        update_id={'_id': ObjectId(i['_id'])}\n",
    "        mycol.update_one(update_id,new_keys)\n"
   ]
  }
 ],
 "metadata": {
  "kernelspec": {
   "display_name": "Python 2",
   "language": "python",
   "name": "python2"
  },
  "language_info": {
   "codemirror_mode": {
    "name": "ipython",
    "version": 3
   },
   "file_extension": ".py",
   "mimetype": "text/x-python",
   "name": "python",
   "nbconvert_exporter": "python",
   "pygments_lexer": "ipython3",
   "version": "3.5.3"
  }
 },
 "nbformat": 4,
 "nbformat_minor": 2
}
