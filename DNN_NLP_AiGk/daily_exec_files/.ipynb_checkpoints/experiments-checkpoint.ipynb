{
 "cells": [
  {
   "cell_type": "code",
   "execution_count": 1,
   "metadata": {},
   "outputs": [],
   "source": [
    "from bs4 import BeautifulSoup\n",
    "import requests\n",
    "import logging\n",
    "import pymongo\n",
    "import multiprocessing\n",
    "import dateparser\n",
    "import pandas as pd\n",
    "import datetime\n",
    "import numpy as np\n",
    "import re\n",
    "from tqdm import tnrange,tqdm_notebook\n",
    "import pymongo\n",
    "from pymongo import MongoClient"
   ]
  },
  {
   "cell_type": "code",
   "execution_count": 2,
   "metadata": {},
   "outputs": [],
   "source": [
    "df = pd.read_pickle('businessline.pkl')"
   ]
  },
  {
   "cell_type": "code",
   "execution_count": 3,
   "metadata": {},
   "outputs": [],
   "source": [
    "df['source_id'] = 'businessline'"
   ]
  },
  {
   "cell_type": "code",
   "execution_count": 4,
   "metadata": {},
   "outputs": [],
   "source": [
    "documents = df.to_dict(orient='records')"
   ]
  },
  {
   "cell_type": "code",
   "execution_count": 5,
   "metadata": {},
   "outputs": [
    {
     "data": {
      "text/plain": [
       "{'category': u'companies',\n",
       " 'date': '2019/10/05',\n",
       " 'links': u'https://www.thehindubusinessline.com/companies/mrpl-begins-production-of-bs-vi-diesel-petrol/article29604114.ece',\n",
       " 'source_id': 'businessline',\n",
       " 'title': u'MRPL begins production of BS-VI diesel, petrol',\n",
       " 'uid': u'businessline_article29604114'}"
      ]
     },
     "execution_count": 5,
     "metadata": {},
     "output_type": "execute_result"
    }
   ],
   "source": [
    "documents[1]"
   ]
  },
  {
   "cell_type": "code",
   "execution_count": 6,
   "metadata": {},
   "outputs": [],
   "source": [
    "client = MongoClient()\n",
    "client = MongoClient('localhost', 27017)\n",
    "\n",
    "db = client.aigk\n",
    "collection = db.test_collection\n",
    "\n",
    "articles = db.articles"
   ]
  },
  {
   "cell_type": "code",
   "execution_count": 7,
   "metadata": {},
   "outputs": [
    {
     "data": {
      "text/plain": [
       "<pymongo.results.InsertManyResult at 0x7f6b3ad77248>"
      ]
     },
     "execution_count": 7,
     "metadata": {},
     "output_type": "execute_result"
    }
   ],
   "source": [
    "articles.insert_many(documents)"
   ]
  },
  {
   "cell_type": "code",
   "execution_count": null,
   "metadata": {},
   "outputs": [],
   "source": [
    "from bs4 import BeautifulSoup\n",
    "import requests\n",
    "import logging\n",
    "import pymongo\n",
    "import multiprocessing\n",
    "import dateparser\n",
    "import pandas as pd\n",
    "import datetime\n",
    "import numpy as np\n",
    "import re\n",
    "from tqdm import tnrange,tqdm_notebook\n",
    "\n",
    "import utils as util\n",
    "page_urls = []\n",
    "for i in range(1,8880):\n",
    "      page_urls.append(\"https://currentaffairs.gktoday.in/page/\"+str(i))\n",
    "        \n",
    "        \n",
    "client = MongoClient()\n",
    "client = MongoClient('localhost', 27017)\n",
    "\n",
    "\n",
    "db = client.aigk\n",
    "collection = db.test_collection\n",
    "\n",
    "articles = db.articles\n",
    "\n",
    "DF = pd.DataFrame([])       \n",
    "for i in tnrange(len(page_urls),desc='progress bar'):\n",
    "    url = page_urls[i]\n",
    "    df = util._scrape_err_catch_gktoday(url)\n",
    "    df['source_id'] = 'gktoday'\n",
    "    documents = df.to_dict(orient='records')\n",
    "    articles.insert_many(documents)\n",
    "    \n",
    "    "
   ]
  },
  {
   "cell_type": "code",
   "execution_count": null,
   "metadata": {},
   "outputs": [],
   "source": [
    "8880*2"
   ]
  },
  {
   "cell_type": "code",
   "execution_count": null,
   "metadata": {},
   "outputs": [],
   "source": []
  }
 ],
 "metadata": {
  "kernelspec": {
   "display_name": "Python 2",
   "language": "python",
   "name": "python2"
  },
  "language_info": {
   "codemirror_mode": {
    "name": "ipython",
    "version": 2
   },
   "file_extension": ".py",
   "mimetype": "text/x-python",
   "name": "python",
   "nbconvert_exporter": "python",
   "pygments_lexer": "ipython2",
   "version": "2.7.13"
  }
 },
 "nbformat": 4,
 "nbformat_minor": 2
}
